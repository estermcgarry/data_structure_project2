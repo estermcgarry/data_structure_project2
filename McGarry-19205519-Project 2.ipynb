{
 "cells": [
  {
   "cell_type": "markdown",
   "metadata": {},
   "source": [
    "# Data Structures and Algorithms"
   ]
  },
  {
   "cell_type": "markdown",
   "metadata": {},
   "source": [
    "This project will cover the implementation of Linked Lists in Python. It will also cover Stack and Queue Abstract Data Types as well as their implementaion in Python. Understanding of structures and the design of programs will also be covered and explained"
   ]
  },
  {
   "cell_type": "markdown",
   "metadata": {},
   "source": [
    "## Part 1"
   ]
  },
  {
   "cell_type": "markdown",
   "metadata": {},
   "source": [
    "### Task 1"
   ]
  },
  {
   "cell_type": "code",
   "execution_count": 1,
   "metadata": {},
   "outputs": [],
   "source": [
    "# create a Node class. The objects of the Node class are the nodes to be added or removed from linked lists\n",
    "# a node for a singly linked list should have an item and a reference to the next node\n",
    "\n",
    "class Node:\n",
    "    def __init__(self, data):\n",
    "        # set item\n",
    "        self.item = data\n",
    "        \n",
    "        # initialise reference to none\n",
    "        self.reference = None"
   ]
  },
  {
   "cell_type": "code",
   "execution_count": 2,
   "metadata": {},
   "outputs": [],
   "source": [
    "# create linked list\n",
    "\n",
    "class myLinkedList:\n",
    "    def __init__(self):\n",
    "        # first node will be the first node of the list, set to null - list is empty at first\n",
    "        self.first_node = None\n",
    "        \n",
    "    def list_traversal(self):\n",
    "        # go through every node in the list if list is not empty\n",
    "        if self.first_node is None:\n",
    "            print(\"List is empty\")\n",
    "            return\n",
    "        else:\n",
    "            n = self.first_node\n",
    "            while n is not None:\n",
    "                # print every node in the list\n",
    "                print(n.item , \" \")\n",
    "                n = n.reference\n",
    "\n",
    "    def add_first(self, data):\n",
    "        # add node to the beginning of list\n",
    "        # create object of class Node\n",
    "        new_node = Node(data)\n",
    "        # set the reference of the new node to be first node, then set first node to be new node\n",
    "        new_node.reference = self.first_node\n",
    "        self.first_node = new_node\n",
    "        \n",
    "\n",
    "    def add_last(self, data):\n",
    "        # add note to the end of list\n",
    "        # create object of class Node\n",
    "        new_node = Node(data)\n",
    "        # check if list is empty. If it is, then just set first node to be the new node\n",
    "        if self.first_node is None:\n",
    "            self.first_node = new_node\n",
    "            return\n",
    "        n = self.first_node\n",
    "        # loop terminates when it reaches the last node, then set reference of last node to be the new node\n",
    "        while n.reference is not None:\n",
    "            n = n.reference\n",
    "        n.reference = new_node;\n",
    "        \n",
    "    def remove_first(self):\n",
    "        # remove first node from list]\n",
    "        # check if list is empty\n",
    "        if self.first_node is None:\n",
    "            print(\"The list is empty, no items to delete\")\n",
    "            return \n",
    "        # set first node to have the value of reference of first node, so first node will point to second element\n",
    "        self.first_node = self.first_node.reference\n",
    "        \n",
    "        \n",
    "    def top(self):\n",
    "        # show first element on list\n",
    "        # check if list is empty\n",
    "        if self.first_node is None:\n",
    "            print(\"List is empty\")\n",
    "            return\n",
    "        # print item on top\n",
    "        else:\n",
    "            top = self.first_node\n",
    "            print(top.item)"
   ]
  },
  {
   "cell_type": "markdown",
   "metadata": {},
   "source": [
    "Conduct tests to check myLikedList class functions:"
   ]
  },
  {
   "cell_type": "code",
   "execution_count": 3,
   "metadata": {},
   "outputs": [],
   "source": [
    "my_linked_list = myLinkedList()\n",
    "my_linked_list.add_first(2)\n",
    "my_linked_list.add_last(4)\n",
    "my_linked_list.add_last(8)"
   ]
  },
  {
   "cell_type": "code",
   "execution_count": 4,
   "metadata": {},
   "outputs": [
    {
     "name": "stdout",
     "output_type": "stream",
     "text": [
      "2  \n",
      "4  \n",
      "8  \n"
     ]
    }
   ],
   "source": [
    "my_linked_list.list_traversal()"
   ]
  },
  {
   "cell_type": "code",
   "execution_count": 5,
   "metadata": {},
   "outputs": [
    {
     "name": "stdout",
     "output_type": "stream",
     "text": [
      "3  \n",
      "2  \n",
      "4  \n",
      "8  \n"
     ]
    }
   ],
   "source": [
    "my_linked_list.add_first(3)\n",
    "my_linked_list.list_traversal()"
   ]
  },
  {
   "cell_type": "code",
   "execution_count": 6,
   "metadata": {},
   "outputs": [
    {
     "name": "stdout",
     "output_type": "stream",
     "text": [
      "3\n"
     ]
    }
   ],
   "source": [
    "my_linked_list.top()"
   ]
  },
  {
   "cell_type": "code",
   "execution_count": 7,
   "metadata": {},
   "outputs": [
    {
     "name": "stdout",
     "output_type": "stream",
     "text": [
      "2  \n",
      "4  \n",
      "8  \n"
     ]
    }
   ],
   "source": [
    "my_linked_list.remove_first()\n",
    "my_linked_list.list_traversal()"
   ]
  },
  {
   "cell_type": "code",
   "execution_count": 8,
   "metadata": {},
   "outputs": [
    {
     "name": "stdout",
     "output_type": "stream",
     "text": [
      "2\n"
     ]
    }
   ],
   "source": [
    "my_linked_list.top()"
   ]
  },
  {
   "cell_type": "code",
   "execution_count": 9,
   "metadata": {},
   "outputs": [],
   "source": [
    "my_linked_list.remove_first()\n",
    "my_linked_list.remove_first()\n",
    "my_linked_list.remove_first()"
   ]
  },
  {
   "cell_type": "code",
   "execution_count": 10,
   "metadata": {},
   "outputs": [
    {
     "name": "stdout",
     "output_type": "stream",
     "text": [
      "List is empty\n"
     ]
    }
   ],
   "source": [
    "my_linked_list.list_traversal()"
   ]
  },
  {
   "cell_type": "code",
   "execution_count": 11,
   "metadata": {},
   "outputs": [
    {
     "name": "stdout",
     "output_type": "stream",
     "text": [
      "The list is empty, no items to delete\n"
     ]
    }
   ],
   "source": [
    "my_linked_list.remove_first()"
   ]
  },
  {
   "cell_type": "code",
   "execution_count": 12,
   "metadata": {},
   "outputs": [
    {
     "name": "stdout",
     "output_type": "stream",
     "text": [
      "List is empty\n"
     ]
    }
   ],
   "source": [
    "my_linked_list.top()"
   ]
  },
  {
   "cell_type": "markdown",
   "metadata": {},
   "source": [
    "### Task 2"
   ]
  },
  {
   "cell_type": "markdown",
   "metadata": {},
   "source": [
    "The difference between Stack ADT and Queue ADT is the way elements in a list or array are added and the way they are removed.\n",
    "\n",
    "STACK: to add or remove an element from a Stack, the operations used are 'push' and 'pop'. Elements are added (pushed) and removed (popped) following the Last In Frist Out (LIFO) priciple, meaning the only element that can be popped is the element that has been pushed last (i.e. the most recent element to be added), but elements can be pushed at any time. There is only one pointer to access the list, that always points to the last element of the list. Real world examples:\n",
    "1. Recursive functions: these functions call themselves as to break the problem to be solved in smaller pieces. The recursion stack pushes pointers into the stack until it reaches a point where the intial problem can be solved. It then solves the problem, returns the result to the element added previously in the stack and gets popped.\n",
    "2. The \"undo\" command in text editors: the last change done to a document is erased (popped), reverting it to an older version of the document.\n",
    "\n",
    "QUEUE: to add or remove an element from a Queue, the operations used are 'enqueue' and 'dequeue'. Elements are added and removed following the First In First Out (FIFO) priciple, meaning only the element that has been in the queue the longest can be dequeued, but elemets can be enqueued at any time. There are two pointers to access the list, one pointing to the first element that was inserted in the list and is still in the list. The other pointer points to the last element that was inserted. Real world examples:\n",
    "1. Resource share such as CPU scheduling: processes are queued while waiting to be executed.\n",
    "2. Printers' networks: jobs for printing are queued while they wait to be printed."
   ]
  },
  {
   "cell_type": "markdown",
   "metadata": {},
   "source": [
    "## Part 2"
   ]
  },
  {
   "cell_type": "markdown",
   "metadata": {},
   "source": [
    "### Task 1"
   ]
  },
  {
   "cell_type": "code",
   "execution_count": 13,
   "metadata": {},
   "outputs": [],
   "source": [
    "# create class Stack as to add and remove nodes accordingly\n",
    "class Stack:\n",
    "    \n",
    "    def __init__(self):\n",
    "        # create object of myLinkedList\n",
    "        self.item = myLinkedList()\n",
    "\n",
    "    def push(self, data):\n",
    "        # add node to the top of the stack\n",
    "        self.item.add_first(data)\n",
    "\n",
    "    def pop(self):\n",
    "        # remove node from the top of the stack (LIFO)\n",
    "        data = self.item.remove_first()\n",
    "        return data\n",
    "    \n",
    "    def top(self):\n",
    "        # show element at the top, i.e. the one that would be removed next in case of a successful pop operation\n",
    "        self.item.top()\n",
    "    \n",
    "    def show(self):\n",
    "        # show items in the stack\n",
    "        self.item.list_traversal()"
   ]
  },
  {
   "cell_type": "markdown",
   "metadata": {},
   "source": [
    "Conduct tests to check Stack class functions:"
   ]
  },
  {
   "cell_type": "code",
   "execution_count": 14,
   "metadata": {},
   "outputs": [],
   "source": [
    "my_linked_list2 = Stack()"
   ]
  },
  {
   "cell_type": "code",
   "execution_count": 15,
   "metadata": {},
   "outputs": [],
   "source": [
    "my_linked_list2.push(3)\n",
    "my_linked_list2.push(5)\n",
    "my_linked_list2.push(7)"
   ]
  },
  {
   "cell_type": "code",
   "execution_count": 16,
   "metadata": {},
   "outputs": [
    {
     "name": "stdout",
     "output_type": "stream",
     "text": [
      "7  \n",
      "5  \n",
      "3  \n"
     ]
    }
   ],
   "source": [
    "my_linked_list2.show()"
   ]
  },
  {
   "cell_type": "code",
   "execution_count": 17,
   "metadata": {},
   "outputs": [
    {
     "name": "stdout",
     "output_type": "stream",
     "text": [
      "7\n"
     ]
    }
   ],
   "source": [
    "my_linked_list2.top()"
   ]
  },
  {
   "cell_type": "code",
   "execution_count": 18,
   "metadata": {},
   "outputs": [
    {
     "name": "stdout",
     "output_type": "stream",
     "text": [
      "5  \n",
      "3  \n"
     ]
    }
   ],
   "source": [
    "my_linked_list2.pop()\n",
    "my_linked_list2.show()"
   ]
  },
  {
   "cell_type": "code",
   "execution_count": 19,
   "metadata": {},
   "outputs": [],
   "source": [
    "my_linked_list2.pop()\n",
    "my_linked_list2.pop()"
   ]
  },
  {
   "cell_type": "code",
   "execution_count": 20,
   "metadata": {},
   "outputs": [
    {
     "name": "stdout",
     "output_type": "stream",
     "text": [
      "The list is empty, no items to delete\n"
     ]
    }
   ],
   "source": [
    "my_linked_list2.pop()"
   ]
  },
  {
   "cell_type": "code",
   "execution_count": 21,
   "metadata": {},
   "outputs": [
    {
     "name": "stdout",
     "output_type": "stream",
     "text": [
      "List is empty\n"
     ]
    }
   ],
   "source": [
    "my_linked_list2.top()"
   ]
  },
  {
   "cell_type": "code",
   "execution_count": 22,
   "metadata": {},
   "outputs": [
    {
     "name": "stdout",
     "output_type": "stream",
     "text": [
      "List is empty\n"
     ]
    }
   ],
   "source": [
    "my_linked_list2.show()"
   ]
  },
  {
   "cell_type": "markdown",
   "metadata": {},
   "source": [
    "### Task 2"
   ]
  },
  {
   "cell_type": "code",
   "execution_count": 23,
   "metadata": {},
   "outputs": [],
   "source": [
    "S = Stack()"
   ]
  },
  {
   "cell_type": "code",
   "execution_count": 24,
   "metadata": {},
   "outputs": [],
   "source": [
    "S.push(5)\n",
    "S.push(3)\n",
    "S.pop()\n",
    "S.push(2)\n",
    "S.push(8)\n",
    "S.pop()\n",
    "S.pop()\n",
    "S.push(9)\n",
    "S.push(1)\n",
    "S.pop()\n",
    "S.push(7)\n",
    "S.push(6)\n",
    "S.pop()\n",
    "S.pop()\n",
    "S.push(4)\n",
    "S.pop()\n",
    "S.pop()"
   ]
  },
  {
   "cell_type": "code",
   "execution_count": 25,
   "metadata": {},
   "outputs": [
    {
     "name": "stdout",
     "output_type": "stream",
     "text": [
      "5  \n"
     ]
    }
   ],
   "source": [
    "S.show()"
   ]
  },
  {
   "cell_type": "markdown",
   "metadata": {},
   "source": [
    "In this situation the number of push operations is one more than the number of pop operations. Meaning there is only one element left in the stack. So Stack S will have 1 node of value 5 after the push and pop operations above. The elements are removed from the top of the stack, so the remaining element in the stack will be the element that was added first."
   ]
  },
  {
   "cell_type": "markdown",
   "metadata": {},
   "source": [
    "### Task 3"
   ]
  },
  {
   "cell_type": "markdown",
   "metadata": {},
   "source": [
    "3) Suppose an initially empty stack S has executed a total of 35 push operations, 15 top operations, and 10 pop operations, 3 of which raised Empty errors that were caught and ignored. What is the current size of S?\n",
    "\n",
    "As top operations do not change the size of of S, we will ignore these operations for the sake of this exercise. Out of the 10 pop operations, we will count only 7 pop operations, because 3 of them were executed on an empty list, thus not changing the size of the S. The order in which all of the other pop and push operations were executed does not matter, as long as they have been successfull.\n",
    "\n",
    "The size of S = 35 push operations - 7 pop operations\n",
    "The size of S = 28\n",
    "\n"
   ]
  },
  {
   "cell_type": "markdown",
   "metadata": {},
   "source": [
    "## Part 3"
   ]
  },
  {
   "cell_type": "markdown",
   "metadata": {},
   "source": [
    "### Task 1"
   ]
  },
  {
   "cell_type": "code",
   "execution_count": 26,
   "metadata": {},
   "outputs": [],
   "source": [
    "class Queue:\n",
    "    \n",
    "    def __init__(self):\n",
    "        # create object of myLinkedList\n",
    "        self.item = myLinkedList()\n",
    "\n",
    "    def enqueue(self, data):\n",
    "        # add node to the end of the queue\n",
    "        self.item.add_last(data)\n",
    "\n",
    "    def dequeue(self):\n",
    "        # remove node from the top of the queue (FIFO)\n",
    "        data = self.item.remove_first()\n",
    "        return data\n",
    "    \n",
    "    def top(self):\n",
    "        # show element at the top, i.e. the one that would be removed next in case of a successful dequeue operation\n",
    "        self.item.top()\n",
    "    \n",
    "    def show(self):\n",
    "        # show items in the queue\n",
    "        self.item.list_traversal()"
   ]
  },
  {
   "cell_type": "code",
   "execution_count": 27,
   "metadata": {},
   "outputs": [],
   "source": [
    "my_linked_list3 = Queue()"
   ]
  },
  {
   "cell_type": "code",
   "execution_count": 28,
   "metadata": {},
   "outputs": [],
   "source": [
    "my_linked_list3.enqueue(3)\n",
    "my_linked_list3.enqueue(5)\n",
    "my_linked_list3.enqueue(7)"
   ]
  },
  {
   "cell_type": "code",
   "execution_count": 29,
   "metadata": {},
   "outputs": [
    {
     "name": "stdout",
     "output_type": "stream",
     "text": [
      "3  \n",
      "5  \n",
      "7  \n"
     ]
    }
   ],
   "source": [
    "my_linked_list3.show()"
   ]
  },
  {
   "cell_type": "code",
   "execution_count": 30,
   "metadata": {},
   "outputs": [
    {
     "name": "stdout",
     "output_type": "stream",
     "text": [
      "3\n"
     ]
    }
   ],
   "source": [
    "my_linked_list3.top()"
   ]
  },
  {
   "cell_type": "code",
   "execution_count": 31,
   "metadata": {},
   "outputs": [
    {
     "name": "stdout",
     "output_type": "stream",
     "text": [
      "5  \n",
      "7  \n"
     ]
    }
   ],
   "source": [
    "my_linked_list3.dequeue()\n",
    "my_linked_list3.show()"
   ]
  },
  {
   "cell_type": "code",
   "execution_count": 32,
   "metadata": {},
   "outputs": [],
   "source": [
    "my_linked_list3.dequeue()\n",
    "my_linked_list3.dequeue()"
   ]
  },
  {
   "cell_type": "code",
   "execution_count": 33,
   "metadata": {},
   "outputs": [
    {
     "name": "stdout",
     "output_type": "stream",
     "text": [
      "The list is empty, no items to delete\n"
     ]
    }
   ],
   "source": [
    "my_linked_list3.dequeue()"
   ]
  },
  {
   "cell_type": "code",
   "execution_count": 34,
   "metadata": {},
   "outputs": [
    {
     "name": "stdout",
     "output_type": "stream",
     "text": [
      "List is empty\n"
     ]
    }
   ],
   "source": [
    "my_linked_list3.show()"
   ]
  },
  {
   "cell_type": "code",
   "execution_count": 35,
   "metadata": {},
   "outputs": [
    {
     "name": "stdout",
     "output_type": "stream",
     "text": [
      "List is empty\n"
     ]
    }
   ],
   "source": [
    "my_linked_list3.top()"
   ]
  },
  {
   "cell_type": "markdown",
   "metadata": {},
   "source": [
    "### Task 2"
   ]
  },
  {
   "cell_type": "code",
   "execution_count": 36,
   "metadata": {},
   "outputs": [],
   "source": [
    "Q = Queue()"
   ]
  },
  {
   "cell_type": "code",
   "execution_count": 37,
   "metadata": {},
   "outputs": [],
   "source": [
    "Q.enqueue(5)\n",
    "Q.enqueue(3)\n",
    "Q.dequeue()\n",
    "Q.enqueue(2)\n",
    "Q.enqueue(8)\n",
    "Q.dequeue()\n",
    "Q.dequeue()\n",
    "Q.enqueue(9)\n",
    "Q.enqueue(1)\n",
    "Q.dequeue()\n",
    "Q.enqueue(7)\n",
    "Q.enqueue(6)\n",
    "Q.dequeue()\n",
    "Q.dequeue()\n",
    "Q.enqueue(4)\n",
    "Q.dequeue()\n",
    "Q.dequeue()"
   ]
  },
  {
   "cell_type": "code",
   "execution_count": 38,
   "metadata": {},
   "outputs": [
    {
     "name": "stdout",
     "output_type": "stream",
     "text": [
      "4  \n"
     ]
    }
   ],
   "source": [
    "Q.show()"
   ]
  },
  {
   "cell_type": "markdown",
   "metadata": {},
   "source": [
    "In this situation the number of enqueue operations is one more than the number of dequeue operations. Meaning there is only one element left in the queue. So Queue Q will have 1 node of value 4 after the enqueue and dequeue operations above. The elements are removed from the top of the queue, so the remaining element in the queue will be the element that was added last. "
   ]
  },
  {
   "cell_type": "markdown",
   "metadata": {},
   "source": [
    "### Task 3"
   ]
  },
  {
   "cell_type": "markdown",
   "metadata": {},
   "source": [
    "3) Suppose an initially empty queue Q has executed a total of 50 enqueue operations, 15 top operations, and 15 dequeue operations, 5 of which raised Empty errors that were caught and ignored. What is the current size of Q?\n",
    "\n",
    "As top operations do not change the size of of Q, we will ignore these operations for the sake of this exercise. Out of the 15 dequeue operations, we will count only 10 dequeue operations, because 5 of them were executed on an empty list, thus not changing the size of Q. The order in which all of the other enqueue and dequeue operations were executed does not matter, as long as they have been successfull.\n",
    "\n",
    "The size of Q = 50 enqueue operations - 10 dequeue operations\n",
    "The size of Q = 40"
   ]
  },
  {
   "cell_type": "markdown",
   "metadata": {},
   "source": [
    "### Conclusion"
   ]
  },
  {
   "cell_type": "markdown",
   "metadata": {},
   "source": [
    "Singly Linked Lists are very useful to store information as a node stores its value as well as a reference to the next node. Depending on how you wish to store and manipulate data in a list, you can use Stack or Queue. Stack is useful if you need a Last In First Out data structure and Queue useful if you need a First In First Out data structure."
   ]
  },
  {
   "cell_type": "markdown",
   "metadata": {},
   "source": [
    "\n",
    "## References"
   ]
  },
  {
   "cell_type": "markdown",
   "metadata": {},
   "source": [
    "Some snippets of code and/or ideas were based on/taken from code on the following websites:\n",
    "\n",
    "https://stackabuse.com/linked-lists-in-detail-with-python-examples-single-linked-lists/\n",
    "\n",
    "https://codereview.stackexchange.com/questions/87102/simple-stack-and-linked-list\n",
    "\n",
    "https://www.geeksforgeeks.org/implement-a-stack-using-singly-linked-list/\n",
    "\n",
    "https://medium.com/@starimela95/implementing-linked-lists-queue-stack-in-python-44ffca6edf04\n",
    "\n",
    "https://medium.com/@hitherejoe/data-structures-stacks-queues-a3b3591c8cb0"
   ]
  }
 ],
 "metadata": {
  "kernelspec": {
   "display_name": "Python 3",
   "language": "python",
   "name": "python3"
  },
  "language_info": {
   "codemirror_mode": {
    "name": "ipython",
    "version": 3
   },
   "file_extension": ".py",
   "mimetype": "text/x-python",
   "name": "python",
   "nbconvert_exporter": "python",
   "pygments_lexer": "ipython3",
   "version": "3.7.4"
  }
 },
 "nbformat": 4,
 "nbformat_minor": 2
}
